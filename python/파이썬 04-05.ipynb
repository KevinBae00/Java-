{
 "cells": [
  {
   "cell_type": "code",
   "execution_count": 37,
   "id": "d8aefd8c",
   "metadata": {},
   "outputs": [
    {
     "name": "stdout",
     "output_type": "stream",
     "text": [
      "3\n",
      "[]\n",
      "[1, 2, 3]\n",
      "3\n",
      "3\n",
      "['Life', 'is']\n",
      "Life\n",
      "Life\n"
     ]
    }
   ],
   "source": [
    "num1 = 1\n",
    "num2 = 3\n",
    "num3 = 5\n",
    "num4 = 7\n",
    "num5 = 9\n",
    "\n",
    "print(num2)\n",
    "\n",
    "#리스트\n",
    "odd = []\n",
    "odd = [1,3,5,7,9]\n",
    "\n",
    "a = []\n",
    "b = [1, 2, 3]\n",
    "c = ['Life', 'is', 'too', 'short']\n",
    "d = [1, 2, 'Life', 'is']\n",
    "e = [1, 2, ['Life', 'is']]\n",
    "\n",
    "print(a)\n",
    "print(b)\n",
    "print(b[2])\n",
    "print(b[-1])\n",
    "print(e[2])\n",
    "print(e[2][0])  #print(e[2][0]) == print(e[-1][0])\n",
    "print(e[-1][0])"
   ]
  },
  {
   "cell_type": "code",
   "execution_count": 18,
   "id": "41562f66",
   "metadata": {},
   "outputs": [
    {
     "name": "stdout",
     "output_type": "stream",
     "text": [
      "[1, 2, 3, 4, 5]\n",
      "[1, 2]\n",
      "[1, 2]\n",
      "[3, 4, 5]\n",
      "[1, 2]\n"
     ]
    }
   ],
   "source": [
    "#인덱스 : 특정 원소 1개를 접근 사용할 때\n",
    "#슬라이싱 : 범위를 지정하여 원수에 접근 사용할 때\n",
    "\n",
    "a = [1,2,3,4,5]\n",
    "print(a)\n",
    "print(a[0:2])\n",
    "print(a[:2])\n",
    "print(a[2:])\n",
    "\n",
    "b = a[0:2]\n",
    "print(b)"
   ]
  },
  {
   "cell_type": "code",
   "execution_count": 28,
   "id": "577e2f4a",
   "metadata": {},
   "outputs": [
    {
     "name": "stdout",
     "output_type": "stream",
     "text": [
      "['a', 'b']\n"
     ]
    }
   ],
   "source": [
    "a = [1, 2, 3, ['a', 'b', 'c'], 4, 5]\n",
    "\n",
    "#['a', 'b']\n",
    "print(a[3][:2])"
   ]
  },
  {
   "cell_type": "code",
   "execution_count": 35,
   "id": "2dcfe118",
   "metadata": {},
   "outputs": [
    {
     "name": "stdout",
     "output_type": "stream",
     "text": [
      "[1, 2, 3, 4, 5, 6]\n",
      "[1, 2, 3, 1, 2, 3, 1, 2, 3]\n",
      "3\n",
      "1hi\n"
     ]
    }
   ],
   "source": [
    "#리스트 연산 하기\n",
    "#리스트 더하기\n",
    "\n",
    "a = [1,2,3]\n",
    "b = [4,5,6]\n",
    "\n",
    "print(a + b) #하나의 리스트로 합친다.\n",
    "print(a * 3) \n",
    "\n",
    "#리스트의 길이 구하기\n",
    "print(len(a))\n",
    "\n",
    "#print(a[0] + \"hi\") #숫자와 문자는 결합 불과 error\n",
    "#str(숫자)\n",
    "print(str(a[0]) + \"hi\")"
   ]
  },
  {
   "cell_type": "code",
   "execution_count": 42,
   "id": "5e21c38d",
   "metadata": {},
   "outputs": [
    {
     "name": "stdout",
     "output_type": "stream",
     "text": [
      "[1, 2, 4]\n",
      "[1, 4]\n"
     ]
    }
   ],
   "source": [
    "#수정, 삭제, 추가\n",
    "a = [1,2,3]\n",
    "a[2] = 4\n",
    "print(a)\n",
    "\n",
    "del a[1]\n",
    "print(a)"
   ]
  },
  {
   "cell_type": "code",
   "execution_count": 49,
   "id": "0a85d861",
   "metadata": {},
   "outputs": [
    {
     "name": "stdout",
     "output_type": "stream",
     "text": [
      "[1, 2]\n"
     ]
    }
   ],
   "source": [
    "a =[1,2,3,4,5]\n",
    "del a[2:]\n",
    "print(a)"
   ]
  },
  {
   "cell_type": "code",
   "execution_count": 79,
   "id": "2a87a580",
   "metadata": {},
   "outputs": [
    {
     "name": "stdout",
     "output_type": "stream",
     "text": [
      "[1, 2, 3, 4]\n",
      "[1, 2, 3, 4, [5, 6]]\n"
     ]
    }
   ],
   "source": [
    "a = [1,2,3]\n",
    "a.append(4)\n",
    "print(a)\n",
    "a.append([5,6])\n",
    "print(a)"
   ]
  },
  {
   "cell_type": "code",
   "execution_count": 55,
   "id": "9ca1f16f",
   "metadata": {},
   "outputs": [
    {
     "name": "stdout",
     "output_type": "stream",
     "text": [
      "[1, 2, 3, 4, 5]\n",
      "[5, 4, 3, 2, 1]\n"
     ]
    }
   ],
   "source": [
    "#리스트 정렬\n",
    "#오름차순, 내림차순\n",
    "a = [1,4,5,2,3]\n",
    "a.sort() #오름차순\n",
    "print(a)\n",
    "a.sort(reverse=True) #내림차순\n",
    "print(a)"
   ]
  },
  {
   "cell_type": "code",
   "execution_count": 76,
   "id": "7049d4f8",
   "metadata": {},
   "outputs": [
    {
     "name": "stdout",
     "output_type": "stream",
     "text": [
      "[3, 4, 5, 1, 2]\n",
      "0\n"
     ]
    }
   ],
   "source": [
    "#reverse(좌우 대칭)\n",
    "a = [2,1,5,4,3]\n",
    "a.reverse()\n",
    "print(a)\n",
    "print(a.index(3)) #값의 위치값(index)를 반환한다."
   ]
  },
  {
   "cell_type": "code",
   "execution_count": 60,
   "id": "b8b107f5",
   "metadata": {},
   "outputs": [
    {
     "name": "stdout",
     "output_type": "stream",
     "text": [
      "[4, 1, 2, 3]\n"
     ]
    }
   ],
   "source": [
    "#리스트의 특정 위치에 값 삽입\n",
    "a = [1,2,3]\n",
    "a.insert(0,4)\n",
    "print(a)"
   ]
  },
  {
   "cell_type": "code",
   "execution_count": 66,
   "id": "21c83c1b",
   "metadata": {},
   "outputs": [
    {
     "name": "stdout",
     "output_type": "stream",
     "text": [
      "[1, 2, 1, 2, 3]\n"
     ]
    }
   ],
   "source": [
    "a = [1,2,3,1,2,3]\n",
    "a.remove(3) #del a[2]\n",
    "print(a)"
   ]
  },
  {
   "cell_type": "code",
   "execution_count": 71,
   "id": "a374a77e",
   "metadata": {},
   "outputs": [
    {
     "name": "stdout",
     "output_type": "stream",
     "text": [
      "[1, 2]\n",
      "[2]\n"
     ]
    }
   ],
   "source": [
    "a = [1,2,3]\n",
    "a.pop() #마지막 값을 끄집어낸다\n",
    "print(a)\n",
    "a.pop(0) # pop(index)\n",
    "print(a)"
   ]
  },
  {
   "cell_type": "code",
   "execution_count": 77,
   "id": "169ab259",
   "metadata": {},
   "outputs": [
    {
     "name": "stdout",
     "output_type": "stream",
     "text": [
      "2\n"
     ]
    }
   ],
   "source": [
    "a = [1,2,3,1]\n",
    "print(a.count(1)) # 특정값의 갯수를 확인"
   ]
  },
  {
   "cell_type": "code",
   "execution_count": 82,
   "id": "69c4bea1",
   "metadata": {},
   "outputs": [
    {
     "name": "stdout",
     "output_type": "stream",
     "text": [
      "[1, 2, 3, 4, 5]\n"
     ]
    }
   ],
   "source": [
    "a = [1,2,3]\n",
    "a.extend([4,5]) #차이점 a.append([4,5]) [1,2,3,[4,5]] a.insert(0,[4,5])\n",
    "print(a)"
   ]
  },
  {
   "cell_type": "code",
   "execution_count": null,
   "id": "a1c041ef",
   "metadata": {},
   "outputs": [],
   "source": [
    "#튜플(tuple)\n",
    "#리스트와 튜플의 차이점\n",
    "#튜플은 값을 변경할 수 없다.\n",
    "#리스트는 []으로 둘러싸지만 튜플은 ()으로 둘러싼다.\n",
    "#리스트는 요소 값의 생성, 삭제, 수정이 가능하지만 튜플은 요소 값을 바꿀 수 없다.\n",
    "t1 = ()                       # a = []\n",
    "t2 = (1,)                     # a = [1]\n",
    "t3 = (1, 2, 3)                # a = [1,2,3]\n",
    "t4 = 1, 2, 3                  # a = 1,2,3  불가능\n",
    "t5 = ('a', 'b', ('ab', 'cd')) # a = [1,2,[3,4]]"
   ]
  },
  {
   "cell_type": "code",
   "execution_count": 87,
   "id": "40ce9ec7",
   "metadata": {},
   "outputs": [],
   "source": [
    "t1 = (1,2,'a','b')\n",
    "#del t1[0] #error\n",
    "#t1[0] = 7 #error"
   ]
  },
  {
   "cell_type": "code",
   "execution_count": 95,
   "id": "13f75e60",
   "metadata": {},
   "outputs": [
    {
     "name": "stdout",
     "output_type": "stream",
     "text": [
      "1\n",
      "(2, 'a', 'b')\n",
      "(1, 2, 'a', 'b', 1, 2, 'a', 'b', 1, 2, 'a', 'b')\n",
      "4\n",
      "<class 'tuple'>\n"
     ]
    }
   ],
   "source": [
    "t1 = (1,2,'a','b')\n",
    "print(t1[0])\n",
    "print(t1[1:])\n",
    "print(t1 * 3)\n",
    "print(len(t1))\n",
    "print(type(t1))"
   ]
  },
  {
   "cell_type": "code",
   "execution_count": 105,
   "id": "5c94b680",
   "metadata": {},
   "outputs": [
    {
     "name": "stdout",
     "output_type": "stream",
     "text": [
      "[1, 2, 3, 4, 5]\n",
      "(1, 2, 3, 4, 5)\n",
      "(1, 2, 3, 4, 5)\n",
      "[1, 2, 3, 4, 5]\n",
      "<class 'list'>\n"
     ]
    }
   ],
   "source": [
    "#리스트 -> 튜플\n",
    "a = [1,2,3,4,5]\n",
    "print(a)\n",
    "t = tuple(a)\n",
    "print(t)\n",
    "\n",
    "#튜플 -> 리스트\n",
    "t = (1,2,3,4,5)\n",
    "print(t)\n",
    "a = list(t)\n",
    "print(a)\n",
    "print(type(a))"
   ]
  },
  {
   "cell_type": "code",
   "execution_count": 9,
   "id": "c8192c62",
   "metadata": {},
   "outputs": [
    {
     "name": "stdout",
     "output_type": "stream",
     "text": [
      "{'a': [1, 2, 3]}\n",
      "<class 'dict'>\n"
     ]
    }
   ],
   "source": [
    "#딕셔너리\n",
    "dic = {}\n",
    "dic = {'name':'pey', 'phone':'010-9999-1234', 'birth':'1118'}\n",
    "a = {1:\"hi\"}\n",
    "a = {'a':[1,2,3]}\n",
    "print(a)\n",
    "print(type(a))"
   ]
  },
  {
   "cell_type": "code",
   "execution_count": 20,
   "id": "5108ca63",
   "metadata": {},
   "outputs": [
    {
     "name": "stdout",
     "output_type": "stream",
     "text": [
      "{1: 'a', 2: 'b'}\n",
      "{1: 'a', 2: 'b', 'name': 'pey'}\n",
      "{1: 'a', 2: 'b'}\n",
      "{1: 'a', 2: 'b', 3: [1, 2, 3]}\n"
     ]
    }
   ],
   "source": [
    "# 추가, 삭제, 변경\n",
    "a = {1:'a'}\n",
    "a[2] = 'b' # key : 2, value = 'b'\n",
    "print(a)\n",
    "a['name'] = 'pey'\n",
    "print(a)\n",
    "del a['name']\n",
    "print(a)\n",
    "a[3] = [1,2,3]\n",
    "print(a)"
   ]
  },
  {
   "cell_type": "code",
   "execution_count": 27,
   "id": "a2033704",
   "metadata": {},
   "outputs": [
    {
     "name": "stdout",
     "output_type": "stream",
     "text": [
      "10\n",
      "hi\n"
     ]
    }
   ],
   "source": [
    "grade = {'pey':10, 'julliet':90, 1:'hi'}\n",
    "print(grade['pey'])  # 해당 key값의 value\n",
    "print(grade[1])"
   ]
  },
  {
   "cell_type": "code",
   "execution_count": 32,
   "id": "16524fb1",
   "metadata": {},
   "outputs": [
    {
     "name": "stdout",
     "output_type": "stream",
     "text": [
      "{1: 'b'}\n",
      "{1: 'c'}\n"
     ]
    }
   ],
   "source": [
    "a= {1:'a', 1:'b'} #key값이 동일하면 마지막 값 하나만 인정\n",
    "print(a)\n",
    "\n",
    "# a= {[1,2]:'hi'} #리스트는 key값으로 사용 불가\n",
    "a[1] = 'c'        #기존 key값을 사용해서 value값 변경\n",
    "print(a)"
   ]
  },
  {
   "cell_type": "code",
   "execution_count": 42,
   "id": "c5754ef3",
   "metadata": {},
   "outputs": [
    {
     "name": "stdout",
     "output_type": "stream",
     "text": [
      "dict_keys(['name', 'phone', 'birth'])\n",
      "dict_values(['pey', '010-9999-1234', '1118'])\n",
      "dict_items([('name', 'pey'), ('phone', '010-9999-1234'), ('birth', '1118')])\n",
      "name\n",
      "phone\n",
      "birth\n",
      "['name', 'phone', 'birth']\n",
      "name\n",
      "{}\n"
     ]
    }
   ],
   "source": [
    "#키값만 가져와서 리스트 만들기\n",
    "a = {'name': 'pey', 'phone': '010-9999-1234', 'birth': '1118'}\n",
    "print(a.keys())\n",
    "print(a.values())\n",
    "print(a.items())\n",
    "\n",
    "for k in a.keys():\n",
    "    print(k)\n",
    "    \n",
    "b = list(a.keys())  #리스트 형식으로 변환\n",
    "print(b)\n",
    "print(b[0])\n",
    "\n",
    "a.clear()      #전체 딕셔너리 삭제\n",
    "print(a)"
   ]
  },
  {
   "cell_type": "code",
   "execution_count": 48,
   "id": "04bdebdc",
   "metadata": {},
   "outputs": [
    {
     "name": "stdout",
     "output_type": "stream",
     "text": [
      "pey\n",
      "pey\n",
      "True\n",
      "False\n"
     ]
    }
   ],
   "source": [
    "a = {'name': 'pey', 'phone': '010-9999-1234', 'birth': '1118'}\n",
    "print(a['name'])    # print(a['name']) == print(a.get('name'))\n",
    "print(a.get('name'))\n",
    "# print(a['name']) 값이 없으면 오류\n",
    "# print(a.get('name')) 값이 없으면 None\n",
    "\n",
    "#in 연산자 : 해당값을 포함하는지에 대한 유무\n",
    "print('name' in a) # True or False\n",
    "print('abc' in a)"
   ]
  },
  {
   "cell_type": "code",
   "execution_count": 58,
   "id": "7b2b43d1",
   "metadata": {
    "scrolled": false
   },
   "outputs": [
    {
     "name": "stdout",
     "output_type": "stream",
     "text": [
      "{1, 2, 3, 4, 5}\n",
      "{'E', 'H', 'O', 'L'}\n",
      "<class 'set'>\n",
      "{1, 2, 3}\n",
      "[1, 2, 3, 4, 5]\n",
      "(1, 2, 3, 4, 5)\n"
     ]
    }
   ],
   "source": [
    "#집합 자료형\n",
    "#순서없이 데이터 저장, 중복을 허용 안함\n",
    "#합집합, 교집합, 차집합\n",
    "\n",
    "s1 = {1,2,3,4,5}\n",
    "print(s1)\n",
    "s2 = set('HELLO')  # 순서없이 데이터 저장, 중복을 허용 안함\n",
    "print(s2)\n",
    "print(type(s2))\n",
    "s3 = set([1,2,3])\n",
    "print(s3)\n",
    "\n",
    "#set -> list\n",
    "a = list(s1)\n",
    "print(a)\n",
    "\n",
    "#set -> tuple\n",
    "b = tuple(s1)\n",
    "print(b)"
   ]
  },
  {
   "cell_type": "code",
   "execution_count": 64,
   "id": "76517972",
   "metadata": {
    "scrolled": true
   },
   "outputs": [
    {
     "name": "stdout",
     "output_type": "stream",
     "text": [
      "{4, 5, 6}\n",
      "{1, 2, 3, 4, 5, 6, 7, 8, 9}\n",
      "{1, 2, 3}\n"
     ]
    }
   ],
   "source": [
    "#합집합, 교집합, 차집합\n",
    "s1 = {1,2,3,4,5,6}\n",
    "s2 = {4,5,6,7,8,9}\n",
    "#교집합\n",
    "a = s1 & s2 # & -> intersection\n",
    "print(a)\n",
    "\n",
    "#합집합\n",
    "b = s1 | s2 # | -> union\n",
    "print(b)\n",
    "\n",
    "#차집합\n",
    "c = s1 - s2 # - -> differencce\n",
    "print(c)"
   ]
  },
  {
   "cell_type": "code",
   "execution_count": 69,
   "id": "cd6429a4",
   "metadata": {
    "scrolled": true
   },
   "outputs": [
    {
     "name": "stdout",
     "output_type": "stream",
     "text": [
      "{1, 2, 3, 4}\n",
      "{1, 2, 3, 4, 5, 6, 7}\n",
      "{1, 3, 4, 5, 6, 7}\n"
     ]
    }
   ],
   "source": [
    "s1 = {1,2,3}\n",
    "s1.add(4)\n",
    "print(s1)\n",
    "s1.update([5,6,7])\n",
    "print(s1)\n",
    "s1.remove(2)\n",
    "print(s1)"
   ]
  },
  {
   "cell_type": "code",
   "execution_count": 72,
   "id": "cc2996ac",
   "metadata": {
    "scrolled": true
   },
   "outputs": [
    {
     "name": "stdout",
     "output_type": "stream",
     "text": [
      "{1, 2, 3, 4, 5}\n",
      "{3, 4, 5, 6, 7}\n",
      "{3, 4, 5}\n"
     ]
    }
   ],
   "source": [
    "# 자료형변환\n",
    "# list(), tuple(), set()\n",
    "\n",
    "a = [1,2,3,4,5]\n",
    "b = [3,4,5,6,7]\n",
    "\n",
    "s1 = set(a)\n",
    "s2 = set(b)\n",
    "\n",
    "print(s1)\n",
    "print(s2)\n",
    "\n",
    "result = s1 & s2\n",
    "print(result)"
   ]
  },
  {
   "cell_type": "code",
   "execution_count": 90,
   "id": "cdc05934",
   "metadata": {
    "scrolled": false
   },
   "outputs": [
    {
     "name": "stdout",
     "output_type": "stream",
     "text": [
      "True\n",
      "False\n",
      "거짓\n",
      "True\n",
      "False\n"
     ]
    }
   ],
   "source": [
    "#관계연산자\n",
    "# ==, !=, <, >, <=, >=\n",
    "\n",
    "#불 자료형\n",
    "#True or False\n",
    "print( 1 == 1 )\n",
    "print( 1 != 1 )\n",
    "\n",
    "#숫자 : 0 을 제외하고 모두 참\n",
    "#문자 : \"\" 를 제외하고 모두 참\n",
    "#리스트, 튜플, 딕셔너리는 값이 있으면 모두 참\n",
    "#None이면 거짓\n",
    "\n",
    "if []:\n",
    "    print(\"참\");\n",
    "else:\n",
    "    print(\"거짓\");\n",
    "    \n",
    "print(bool(\"python\"))\n",
    "print(bool(\"\"))"
   ]
  },
  {
   "cell_type": "code",
   "execution_count": 101,
   "id": "f0a08d87",
   "metadata": {},
   "outputs": [
    {
     "name": "stdout",
     "output_type": "stream",
     "text": [
      "10\n",
      "140720853873736\n",
      "140720853874056\n"
     ]
    }
   ],
   "source": [
    "x = 10\n",
    "y = 20\n",
    "print(x)\n",
    "print(id(x))\n",
    "print(id(y))"
   ]
  },
  {
   "cell_type": "code",
   "execution_count": 103,
   "id": "a5ddd8d4",
   "metadata": {},
   "outputs": [
    {
     "name": "stdout",
     "output_type": "stream",
     "text": [
      "2277045605504\n",
      "2277045605504\n",
      "[5, 2, 3]\n",
      "[5, 2, 3]\n"
     ]
    }
   ],
   "source": [
    "a = [1,2,3]\n",
    "b = a  #주소값까지 같이 복사\n",
    "\n",
    "print(id(a))\n",
    "print(id(b))\n",
    "\n",
    "a[0] = 5\n",
    "print(a)\n",
    "print(b)"
   ]
  },
  {
   "cell_type": "code",
   "execution_count": 121,
   "id": "be46ec58",
   "metadata": {},
   "outputs": [
    {
     "name": "stdout",
     "output_type": "stream",
     "text": [
      "[1, 2, 3]\n",
      "[1, 2, 3]\n",
      "2277045931648\n",
      "2277045922944\n"
     ]
    }
   ],
   "source": [
    "a = [1,2,3]\n",
    "b = a[:]   # a[:] 전체 데이터, 값만 복사\n",
    "\n",
    "print(a)\n",
    "print(a[:])\n",
    "print(id(a))\n",
    "print(id(b))"
   ]
  },
  {
   "cell_type": "code",
   "execution_count": 124,
   "id": "01073d7e",
   "metadata": {},
   "outputs": [
    {
     "name": "stdout",
     "output_type": "stream",
     "text": [
      "[5, 2, 3]\n",
      "[1, 2, 3]\n"
     ]
    }
   ],
   "source": [
    "from copy import copy\n",
    "a = [1,2,3]\n",
    "b = copy(a)   #물리적인 값의 복사\n",
    "\n",
    "a[0] = 5\n",
    "print(a)\n",
    "print(b)"
   ]
  },
  {
   "cell_type": "code",
   "execution_count": 126,
   "id": "4669664a",
   "metadata": {},
   "outputs": [
    {
     "name": "stdout",
     "output_type": "stream",
     "text": [
      "Python\n",
      "Life\n"
     ]
    }
   ],
   "source": [
    "a,b = ['Python','Life'] #각각의 변수에 값을 1:1 매칭\n",
    "print(a)\n",
    "print(b)"
   ]
  },
  {
   "cell_type": "code",
   "execution_count": 136,
   "id": "3a40d620",
   "metadata": {},
   "outputs": [
    {
     "name": "stdout",
     "output_type": "stream",
     "text": [
      "('python', 'Life')\n"
     ]
    }
   ],
   "source": [
    "t = (a,b) = 'python', 'Life'\n",
    "print(t)"
   ]
  },
  {
   "cell_type": "code",
   "execution_count": 132,
   "id": "fdde8673",
   "metadata": {},
   "outputs": [
    {
     "name": "stdout",
     "output_type": "stream",
     "text": [
      "python python\n"
     ]
    }
   ],
   "source": [
    "a = b ='python'\n",
    "print(a,b)"
   ]
  },
  {
   "cell_type": "code",
   "execution_count": 137,
   "id": "8cfea1ce",
   "metadata": {},
   "outputs": [
    {
     "name": "stdout",
     "output_type": "stream",
     "text": [
      "20\n",
      "10\n"
     ]
    }
   ],
   "source": [
    "a = 10\n",
    "b = 20\n",
    "a,b = b,a\n",
    "print(a)\n",
    "print(b)"
   ]
  },
  {
   "cell_type": "code",
   "execution_count": 3,
   "id": "d9001514",
   "metadata": {},
   "outputs": [
    {
     "name": "stdout",
     "output_type": "stream",
     "text": [
      "['닥터 스트레인지', '스플릿', '럭키', '배트맨']\n",
      "['슈퍼맨', '닥터 스트레인지', '스플릿', '럭키', '배트맨']\n",
      "['슈퍼맨', '닥터 스트레인지', '스플릿', '배트맨']\n",
      "['슈퍼맨', '닥터 스트레인지']\n"
     ]
    }
   ],
   "source": [
    "movie_rank = [\"닥터 스트레인지\", \"스플릿\", \"럭키\"]\n",
    "\n",
    "movie_rank.append(\"배트맨\")\n",
    "print(movie_rank)\n",
    "\n",
    "movie_rank.insert(movie_rank.index(\"닥터 스트레인지\"),\"슈퍼맨\")\n",
    "print(movie_rank)\n",
    "\n",
    "movie_rank.remove(\"럭키\")\n",
    "print(movie_rank)\n",
    "\n",
    "del movie_rank[2:4]\n",
    "print(movie_rank)"
   ]
  },
  {
   "cell_type": "code",
   "execution_count": 8,
   "id": "9da93b07",
   "metadata": {},
   "outputs": [
    {
     "name": "stdout",
     "output_type": "stream",
     "text": [
      "['C', 'C++', 'JAVA', 'Python', 'Go', 'C#']\n"
     ]
    }
   ],
   "source": [
    "lang1 = [\"C\", \"C++\", \"JAVA\"]\n",
    "lang2 = [\"Python\", \"Go\", \"C#\"]\n",
    "#langs = lang1[:]\n",
    "#langs.extend(lang2)\n",
    "langs = lang1 + lang2\n",
    "print(langs)"
   ]
  },
  {
   "cell_type": "code",
   "execution_count": 6,
   "id": "f380a118",
   "metadata": {},
   "outputs": [
    {
     "name": "stdout",
     "output_type": "stream",
     "text": [
      "['C', 'C++', 'JAVA', 'Python', 'Go', 'C#']\n",
      "[2, 4, 6, 8, 10]\n"
     ]
    }
   ],
   "source": [
    "nums = [1,2,3,4,5,6,7,8,9,10]\n",
    "print(nums[1::2])"
   ]
  },
  {
   "cell_type": "code",
   "execution_count": 9,
   "id": "6fd844f3",
   "metadata": {},
   "outputs": [
    {
     "name": "stdout",
     "output_type": "stream",
     "text": [
      "삼성전자/LG전자/Naver/SK하이닉스/미래에셋대우\n",
      "삼성전자/LG전자/Naver/SK하이닉스/미래에셋대우\n"
     ]
    }
   ],
   "source": [
    "interest = ['삼성전자', 'LG전자', 'Naver', 'SK하이닉스', '미래에셋대우']\n",
    "a = ''\n",
    "for i in interest:\n",
    "    a += i\n",
    "    a += '/'\n",
    "a = a[:-1]\n",
    "print(a)\n",
    "print(\"/\".join(interest))"
   ]
  },
  {
   "cell_type": "code",
   "execution_count": null,
   "id": "cb5066cb",
   "metadata": {},
   "outputs": [],
   "source": []
  }
 ],
 "metadata": {
  "kernelspec": {
   "display_name": "Python 3 (ipykernel)",
   "language": "python",
   "name": "python3"
  },
  "language_info": {
   "codemirror_mode": {
    "name": "ipython",
    "version": 3
   },
   "file_extension": ".py",
   "mimetype": "text/x-python",
   "name": "python",
   "nbconvert_exporter": "python",
   "pygments_lexer": "ipython3",
   "version": "3.11.2"
  }
 },
 "nbformat": 4,
 "nbformat_minor": 5
}
