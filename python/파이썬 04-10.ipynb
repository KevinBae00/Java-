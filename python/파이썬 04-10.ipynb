{
 "cells": [
  {
   "cell_type": "code",
   "execution_count": 1,
   "id": "a8fb8381",
   "metadata": {},
   "outputs": [
    {
     "name": "stdout",
     "output_type": "stream",
     "text": [
      "3\n",
      "7\n"
     ]
    }
   ],
   "source": [
    "result = 0  #전역변수\n",
    "\n",
    "def add(num):\n",
    "    global result  # 전역변수\n",
    "    result += num  # result = result + num\n",
    "    return result\n",
    "\n",
    "print(add(3))\n",
    "print(add(4))"
   ]
  },
  {
   "cell_type": "code",
   "execution_count": 7,
   "id": "28025b8b",
   "metadata": {},
   "outputs": [
    {
     "name": "stdout",
     "output_type": "stream",
     "text": [
      "3\n",
      "7\n",
      "4\n",
      "============\n",
      "3\n",
      "10\n",
      "<class '__main__.Calculator'>\n"
     ]
    }
   ],
   "source": [
    "#클래스\n",
    "#클래스의 이름은 대문자로 시작\n",
    "# class 클래스명:\n",
    "#     변수\n",
    "#     함수\n",
    "\n",
    "\n",
    "#클래스의 정의\n",
    "class Calculator:\n",
    "    \n",
    "    def __init__(self):  #self는 매개변수가 아니다.\n",
    "        self.result = 0\n",
    "        \n",
    "    def add(self,num):\n",
    "        self.result += num\n",
    "        return self.result\n",
    "    \n",
    "    def sub(self,num):\n",
    "        self.result -= num\n",
    "        return self.result\n",
    "    \n",
    "#클래스의 생성(멤버를 사용할수 있다)\n",
    "cal1 = Calculator()  # 객체\n",
    "print(cal1.add(3))\n",
    "print(cal1.add(4))\n",
    "print(cal1.sub(3))\n",
    "\n",
    "print(\"============\")\n",
    "\n",
    "cal2 = Calculator()  # 객체\n",
    "print(cal2.add(3))\n",
    "print(cal2.add(7))\n",
    "\n",
    "print(type(cal1))"
   ]
  },
  {
   "cell_type": "code",
   "execution_count": 17,
   "id": "43ae8f21",
   "metadata": {},
   "outputs": [
    {
     "name": "stdout",
     "output_type": "stream",
     "text": [
      "3\n",
      "4\n",
      "7\n",
      "-1\n",
      "12\n",
      "0.75\n",
      "10\n",
      "20\n"
     ]
    }
   ],
   "source": [
    "class FourCal:\n",
    "    \n",
    "    def __init__(self):  #생략되어있음\n",
    "        \n",
    "    def setdata(self,first,second):\n",
    "        self.first = first\n",
    "        self.second = second\n",
    "        \n",
    "    def add(self):\n",
    "        self.result = self.first + self.second\n",
    "        return self.result\n",
    "        \n",
    "    def sub(self):\n",
    "        self.result = self.first - self.second\n",
    "        return self.result\n",
    "    \n",
    "    def mul(self):\n",
    "        self.result = self.first * self.second\n",
    "        return self.result\n",
    "    \n",
    "    def div(self):\n",
    "        self.result = self.first / self.second\n",
    "        return self.result\n",
    "        \n",
    "a = FourCal()\n",
    "a.setdata(3,4)\n",
    "print(a.first)\n",
    "print(a.second)\n",
    "print(a.add())\n",
    "print(a.sub())\n",
    "print(a.mul())\n",
    "print(a.div())\n",
    "\n",
    "b = FourCal()\n",
    "b.setdata(10,20)\n",
    "print(b.first)\n",
    "print(b.second)"
   ]
  },
  {
   "cell_type": "raw",
   "id": "7ec1e3dc",
   "metadata": {},
   "source": [
    "# 생성자\n",
    "# 변수에다 값을 미리 초기화\n",
    "# __init__()\n",
    "# 객체가 생성되어지는 시점에 호출\n",
    "\n",
    "class FourCal:\n",
    "    \n",
    "    def __init__(self,first,second):  # 생성자\n",
    "        self.first = first\n",
    "        self.second = second\n",
    "        \n",
    "    def setdata(self,first,second):\n",
    "        self.first = first\n",
    "        self.second = second\n",
    "        \n",
    "    def add(self):\n",
    "        self.result = self.first + self.second\n",
    "        return self.result\n",
    "        \n",
    "    def sub(self):\n",
    "        self.result = self.first - self.second\n",
    "        return self.result\n",
    "    \n",
    "    def mul(self):\n",
    "        self.result = self.first * self.second\n",
    "        return self.result\n",
    "    \n",
    "    def div(self):\n",
    "        self.result = self.first / self.second\n",
    "        return self.result\n",
    "        \n",
    "# a = FourCal()\n",
    "# a.add()\n",
    "\n",
    "a = FourCal(5,6)  #__init()__ 함수를 호출\n",
    "print(a.add())"
   ]
  },
  {
   "cell_type": "code",
   "execution_count": 25,
   "id": "8eb43c70",
   "metadata": {},
   "outputs": [
    {
     "name": "stdout",
     "output_type": "stream",
     "text": [
      "9\n",
      "1024\n"
     ]
    }
   ],
   "source": [
    "# 상속\n",
    "class MoreFourCal(FourCal):\n",
    "    def pow(self):\n",
    "        result = self.first ** self.second\n",
    "        return result\n",
    "\n",
    "m = MoreFourCal(4,5)  # 부모의 생성자쪽으로 값을 전달\n",
    "print(m.add())\n",
    "print(m.pow())"
   ]
  },
  {
   "cell_type": "code",
   "execution_count": 30,
   "id": "a8b8cb08",
   "metadata": {},
   "outputs": [
    {
     "name": "stdout",
     "output_type": "stream",
     "text": [
      "0\n"
     ]
    }
   ],
   "source": [
    "#메서드 오버라이딩\n",
    "#상속관계에서 부모 메소드와 똑같은 모양(이름)을 가진 메소드를 자식 클래스에서 재정의 하는 것\n",
    "class SafeFourCal(FourCal):\n",
    "    def div(self):  # 오버라이딩(재정의)\n",
    "        if self.second == 0:\n",
    "            return 0\n",
    "        else:\n",
    "            return self.first / self.second\n",
    "        \n",
    "s = SafeFourCal(4,0)\n",
    "print(s.div())"
   ]
  },
  {
   "cell_type": "code",
   "execution_count": 43,
   "id": "2abf712e",
   "metadata": {},
   "outputs": [
    {
     "name": "stdout",
     "output_type": "stream",
     "text": [
      "이\n",
      "이\n",
      "1934284118240\n",
      "1934284118240\n",
      "1934284118240\n"
     ]
    }
   ],
   "source": [
    "#클래스 변수 <-> 객체 변수\n",
    "#클래스 영역에 정의 하는 변수로써 생성되는 동일 타입의 객체가 하나의 변수로 사용한다.\n",
    "\n",
    "class Family:\n",
    "    lastname = \"김\"\n",
    "\n",
    "# print(Family.lastname)\n",
    "\n",
    "f = Family()\n",
    "# print(f.lastname)\n",
    "\n",
    "f2 = Family()\n",
    "# print(f2.lastname)\n",
    "\n",
    "Family.lastname = '이'  # 클래스 변수의 값으 바꾼다\n",
    "#f2.lastname = '박'     # 클래스 변수의 값을 못 바꾼다\n",
    "\n",
    "print(f.lastname)\n",
    "print(f2.lastname)\n",
    "\n",
    "print(id(Family.lastname))\n",
    "print(id(f.lastname))\n",
    "print(id(f2.lastname))"
   ]
  },
  {
   "cell_type": "code",
   "execution_count": null,
   "id": "4fd3dd08",
   "metadata": {},
   "outputs": [],
   "source": []
  }
 ],
 "metadata": {
  "kernelspec": {
   "display_name": "Python 3 (ipykernel)",
   "language": "python",
   "name": "python3"
  },
  "language_info": {
   "codemirror_mode": {
    "name": "ipython",
    "version": 3
   },
   "file_extension": ".py",
   "mimetype": "text/x-python",
   "name": "python",
   "nbconvert_exporter": "python",
   "pygments_lexer": "ipython3",
   "version": "3.11.2"
  }
 },
 "nbformat": 4,
 "nbformat_minor": 5
}
