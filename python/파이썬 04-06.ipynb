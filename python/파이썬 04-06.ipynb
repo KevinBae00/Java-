{
 "cells": [
  {
   "cell_type": "code",
   "execution_count": 8,
   "id": "5794c231",
   "metadata": {},
   "outputs": [
    {
     "name": "stdout",
     "output_type": "stream",
     "text": [
      "5는 10보다 작다\n",
      "5\n"
     ]
    }
   ],
   "source": [
    "#조건문\n",
    "#실행문은 들여쓰기 한다.\n",
    "#조건식이 True면 실행, False면 실행안함\n",
    "\n",
    "# if 조건식:\n",
    "#     실행문\n",
    "# else:\n",
    "#     실행문\n",
    "\n",
    "if 10 < 5:\n",
    "    print(\"10은 5보다 큽니다\")\n",
    "    print(\"10\")\n",
    "else:\n",
    "    print(\"5는 10보다 작다\")\n",
    "    print(\"5\")"
   ]
  },
  {
   "cell_type": "code",
   "execution_count": 10,
   "id": "3dfee91f",
   "metadata": {},
   "outputs": [
    {
     "name": "stdout",
     "output_type": "stream",
     "text": [
      "걸어가라\n"
     ]
    }
   ],
   "source": [
    "money = 2000\n",
    "if money >= 3000:\n",
    "    print(\"택시를 타라\")\n",
    "else:\n",
    "    print(\"걸어가라\")"
   ]
  },
  {
   "cell_type": "code",
   "execution_count": 32,
   "id": "98e1c1fb",
   "metadata": {},
   "outputs": [
    {
     "name": "stdout",
     "output_type": "stream",
     "text": [
      "money: 2000\n",
      "card: True\n",
      "\n",
      "and:\n",
      "걸어가라\n",
      "or:\n",
      "택시를 타라\n",
      "not:\n",
      "걸어가라\n"
     ]
    }
   ],
   "source": [
    "# and, or, not\n",
    "# and : x와 y 모두 참이어야 참이다\n",
    "# or : x와 y 둘중에 하나만 참이어도 참이다\n",
    "# not : x가 거짓이면 참이다\n",
    "\n",
    "money = 2000\n",
    "card = True\n",
    "print(\"money: %d\" %money)\n",
    "print(\"card: {0}\\n\".format(card))\n",
    "\n",
    "print(\"and:\")\n",
    "if money >= 3000 and card :\n",
    "    print(\"택시를 타라\")\n",
    "else:\n",
    "    print(\"걸어가라\")\n",
    "\n",
    "print(\"or:\")\n",
    "if money >= 3000 or card :\n",
    "    print(\"택시를 타라\")\n",
    "else:\n",
    "    print(\"걸어가라\")\n",
    "\n",
    "print(\"not:\")\n",
    "if not card :\n",
    "    print(\"택시를 타라\")\n",
    "else:\n",
    "    print(\"걸어가라\")"
   ]
  },
  {
   "cell_type": "code",
   "execution_count": 24,
   "id": "321dc839",
   "metadata": {},
   "outputs": [
    {
     "name": "stdout",
     "output_type": "stream",
     "text": [
      "True\n",
      "False\n",
      "True\n"
     ]
    }
   ],
   "source": [
    "print(1 in [1,2,3,4,5])\n",
    "print(1 not in [1,2,3,4,5])\n",
    "print('j' not in 'python')"
   ]
  },
  {
   "cell_type": "code",
   "execution_count": 25,
   "id": "e26e9441",
   "metadata": {},
   "outputs": [
    {
     "name": "stdout",
     "output_type": "stream",
     "text": [
      "택시를 타라\n"
     ]
    }
   ],
   "source": [
    "pocket = ['paper', 'cellphone', 'money']\n",
    "if 'money' in pocket:\n",
    "    print(\"택시를 타라\")\n",
    "else:\n",
    "    print(\"걸어가라\")"
   ]
  },
  {
   "cell_type": "code",
   "execution_count": 36,
   "id": "3bc4031e",
   "metadata": {},
   "outputs": [
    {
     "name": "stdout",
     "output_type": "stream",
     "text": [
      "조건에 없습니다.\n"
     ]
    }
   ],
   "source": [
    "# 다중 if 문\n",
    "\n",
    "# if 조건식:\n",
    "#     실행문\n",
    "# elif 조건문:\n",
    "#     실행문\n",
    "# elif 조건문:\n",
    "#     실행문\n",
    "# elif 조건문:\n",
    "#     실행문\n",
    "# else:\n",
    "#     실행문\n",
    "\n",
    "num = 4\n",
    "if num == 1:\n",
    "    print(num)\n",
    "elif num == 2:\n",
    "    print(num)\n",
    "elif num == 3:\n",
    "    print(num)\n",
    "else:\n",
    "    print(\"조건에 없습니다.\")"
   ]
  },
  {
   "cell_type": "code",
   "execution_count": 39,
   "id": "65d8fc1d",
   "metadata": {},
   "outputs": [
    {
     "name": "stdout",
     "output_type": "stream",
     "text": [
      "?????\n"
     ]
    }
   ],
   "source": [
    "if not \"hello\":\n",
    "    print(\"hello\")\n",
    "else:\n",
    "    print(\"?????\")"
   ]
  },
  {
   "cell_type": "code",
   "execution_count": 42,
   "id": "a4438b2b",
   "metadata": {},
   "outputs": [
    {
     "name": "stdout",
     "output_type": "stream",
     "text": [
      "pass\n",
      "pass\n"
     ]
    }
   ],
   "source": [
    "#조건부 표현식\n",
    "score = 100\n",
    "if score >= 60:\n",
    "    message = \"pass\"\n",
    "else:\n",
    "    message = \"fail\"\n",
    "    \n",
    "print(message)\n",
    "\n",
    "#변수 = 실행문 if 조건식 else 실행문\n",
    "message = \"pass\" if score >= 60 else \"fail\"\n",
    "print(message)"
   ]
  },
  {
   "cell_type": "code",
   "execution_count": 45,
   "id": "3455d94d",
   "metadata": {},
   "outputs": [
    {
     "name": "stdout",
     "output_type": "stream",
     "text": [
      "x =  1\n",
      "x =  2\n",
      "x =  3\n",
      "x =  4\n",
      "x =  5\n",
      "x =  6\n",
      "x =  7\n",
      "x =  8\n",
      "x =  9\n",
      "x =  10\n"
     ]
    }
   ],
   "source": [
    "# 반복문\n",
    "# for, while\n",
    "# while 조건식:\n",
    "#     실행문\n",
    "#     실행문\n",
    "\n",
    "x = 1\n",
    "while x <= 10:\n",
    "    print(\"x = \",x)\n",
    "    x += 1"
   ]
  },
  {
   "cell_type": "code",
   "execution_count": 49,
   "id": "4aa48ec5",
   "metadata": {},
   "outputs": [
    {
     "name": "stdout",
     "output_type": "stream",
     "text": [
      "sum =  55\n"
     ]
    }
   ],
   "source": [
    "# 1 + 2 + 3 ..... + 10 = 55\n",
    "\n",
    "sum = 0\n",
    "x = 1\n",
    "while x <= 10:\n",
    "    sum += x\n",
    "    x += 1\n",
    "\n",
    "print(\"sum = \",sum)"
   ]
  },
  {
   "cell_type": "code",
   "execution_count": 54,
   "id": "1ba5dd61",
   "metadata": {},
   "outputs": [
    {
     "name": "stdout",
     "output_type": "stream",
     "text": [
      "2 x 1 = 2\n",
      "2 x 2 = 4\n",
      "2 x 3 = 6\n",
      "2 x 4 = 8\n",
      "2 x 5 = 10\n",
      "2 x 6 = 12\n",
      "2 x 7 = 14\n",
      "2 x 8 = 16\n",
      "2 x 9 = 18\n"
     ]
    }
   ],
   "source": [
    "dan = 2\n",
    "x = 1\n",
    "while x <= 9:\n",
    "    print(dan, \"x\", x, \"=\", dan * x)\n",
    "    x += 1"
   ]
  },
  {
   "cell_type": "code",
   "execution_count": 3,
   "id": "4f7b50ba",
   "metadata": {},
   "outputs": [
    {
     "name": "stdout",
     "output_type": "stream",
     "text": [
      "1 is odd\n",
      "2 is even\n",
      "3 is odd\n",
      "4 is even\n",
      "5 is odd\n",
      "6 is even\n",
      "7 is odd\n",
      "8 is even\n",
      "9 is odd\n",
      "10 is even\n"
     ]
    }
   ],
   "source": [
    "x = 1\n",
    "while x <= 10:\n",
    "    if x % 2 == 1:\n",
    "        print(x, \"is odd\")\n",
    "    else:\n",
    "        print(x, \"is even\")\n",
    "    x += 1"
   ]
  },
  {
   "cell_type": "code",
   "execution_count": 1,
   "id": "649b420d",
   "metadata": {},
   "outputs": [
    {
     "name": "stdout",
     "output_type": "stream",
     "text": [
      "Sum of odd is 25\n",
      "Sum of even is 30\n"
     ]
    }
   ],
   "source": [
    "# 1 ~ 10 까지 정수를 각각 짝수의 함과 홀수의 합을 구하시오\n",
    "x = 1\n",
    "odd_sum = 0\n",
    "even_sum = 0\n",
    "while x <= 10:\n",
    "    if x %2 ==1:\n",
    "        odd_sum += x\n",
    "    else:\n",
    "        even_sum += x\n",
    "    x += 1\n",
    "print(\"Sum of odd is\", odd_sum)\n",
    "print(\"Sum of even is\", even_sum)"
   ]
  },
  {
   "cell_type": "code",
   "execution_count": 1,
   "id": "a4b0b8ac",
   "metadata": {},
   "outputs": [
    {
     "name": "stdout",
     "output_type": "stream",
     "text": [
      "Hello\n"
     ]
    }
   ],
   "source": [
    "x=True\n",
    "while True:\n",
    "    print(\"Hello\")\n",
    "    if(x):\n",
    "        break"
   ]
  },
  {
   "cell_type": "code",
   "execution_count": 8,
   "id": "2b151621",
   "metadata": {},
   "outputs": [
    {
     "name": "stdout",
     "output_type": "stream",
     "text": [
      "0\n",
      "1\n",
      "2\n",
      "3\n",
      "4\n",
      "5\n",
      "6\n",
      "7\n",
      "8\n",
      "9\n"
     ]
    }
   ],
   "source": [
    "#for\n",
    "# for 변수 in 반복횟수:\n",
    "#     실행문\n",
    "# range(시작값, 끝값, 오프셋)함수\n",
    "# range(0,10) # 0 ~ 9 숫자가 1씩 증가한다\n",
    "\n",
    "for x in range(0,10):\n",
    "    print(x)"
   ]
  },
  {
   "cell_type": "code",
   "execution_count": 10,
   "id": "3b38128a",
   "metadata": {},
   "outputs": [
    {
     "name": "stdout",
     "output_type": "stream",
     "text": [
      "Sum: 55\n"
     ]
    }
   ],
   "source": [
    "sum = 0\n",
    "for x in range(1,11):\n",
    "    sum += x\n",
    "print(\"Sum:\", sum)"
   ]
  },
  {
   "cell_type": "code",
   "execution_count": 15,
   "id": "fb921369",
   "metadata": {},
   "outputs": [
    {
     "name": "stdout",
     "output_type": "stream",
     "text": [
      "2 X 1 = 2\n",
      "2 X 2 = 4\n",
      "2 X 3 = 6\n",
      "2 X 4 = 8\n",
      "2 X 5 = 10\n",
      "2 X 6 = 12\n",
      "2 X 7 = 14\n",
      "2 X 8 = 16\n",
      "2 X 9 = 18\n"
     ]
    }
   ],
   "source": [
    "dan = 2\n",
    "for x in range(1, 10):\n",
    "    print(\"{} X {} = {}\".format(dan,x,dan*x))"
   ]
  },
  {
   "cell_type": "code",
   "execution_count": 17,
   "id": "7f9dc0a1",
   "metadata": {},
   "outputs": [
    {
     "name": "stdout",
     "output_type": "stream",
     "text": [
      "Odd is 25\n",
      "Even is 30\n"
     ]
    }
   ],
   "source": [
    "odd = 0\n",
    "even = 0\n",
    "for x in range(1,11):\n",
    "    if x%2 == 1:\n",
    "        odd += x\n",
    "    else:\n",
    "        even += x\n",
    "print(\"Odd is\",odd)\n",
    "print(\"Even is\",even)"
   ]
  },
  {
   "cell_type": "code",
   "execution_count": 19,
   "id": "f48c20b3",
   "metadata": {},
   "outputs": [
    {
     "name": "stdout",
     "output_type": "stream",
     "text": [
      "1\n",
      "3\n",
      "5\n",
      "7\n",
      "9\n"
     ]
    }
   ],
   "source": [
    "for x in range(1, 10 ,2):\n",
    "    print(x)"
   ]
  },
  {
   "cell_type": "code",
   "execution_count": 22,
   "id": "68b47c78",
   "metadata": {},
   "outputs": [
    {
     "name": "stdout",
     "output_type": "stream",
     "text": [
      "10\n",
      "9\n",
      "8\n",
      "7\n",
      "6\n",
      "5\n",
      "4\n",
      "3\n",
      "2\n",
      "1\n"
     ]
    }
   ],
   "source": [
    "for x in range(10,0,-1):\n",
    "    print(x)"
   ]
  },
  {
   "cell_type": "code",
   "execution_count": 23,
   "id": "e561cf0e",
   "metadata": {},
   "outputs": [
    {
     "name": "stdout",
     "output_type": "stream",
     "text": [
      "one\n",
      "two\n",
      "three\n"
     ]
    }
   ],
   "source": [
    "list = ['one','two','three']\n",
    "for x in list:\n",
    "    print(x)"
   ]
  },
  {
   "cell_type": "code",
   "execution_count": 28,
   "id": "f0c32486",
   "metadata": {},
   "outputs": [
    {
     "name": "stdout",
     "output_type": "stream",
     "text": [
      "[6, 12]\n"
     ]
    }
   ],
   "source": [
    "#리스트 컴프리헨션 사용하기\n",
    "a = [1,2,3,4]\n",
    "# [표현식 for 항목 in 반복가능객체 if 조건문]\n",
    "result = [ x*3 for x in a if x % 2 == 0 ]\n",
    "print(result)"
   ]
  },
  {
   "cell_type": "code",
   "execution_count": 31,
   "id": "afd82869",
   "metadata": {},
   "outputs": [
    {
     "name": "stdout",
     "output_type": "stream",
     "text": [
      "[0, 1, 2, 3, 4, 5, 6, 7, 8, 9]\n"
     ]
    }
   ],
   "source": [
    "result = [i for i in range(10)]\n",
    "print(result)"
   ]
  },
  {
   "cell_type": "code",
   "execution_count": 32,
   "id": "44aaaca2",
   "metadata": {},
   "outputs": [
    {
     "name": "stdout",
     "output_type": "stream",
     "text": [
      "hello 1\n",
      "hello 2\n",
      "hello 3\n",
      "hello 4\n",
      "hello 5\n",
      "hello 6\n",
      "hello 7\n",
      "hello 8\n",
      "hello 9\n",
      "hello 10\n",
      "hello 11\n",
      "hello 12\n",
      "hello 13\n",
      "hello 14\n",
      "hello 15\n",
      "hello 16\n",
      "hello 17\n",
      "hello 18\n",
      "hello 19\n",
      "hello 20\n"
     ]
    }
   ],
   "source": [
    "# 반복문 제어\n",
    "# 강제 종료\n",
    "# break\n",
    "# continue\n",
    "\n",
    "cnt = 0\n",
    "\n",
    "while True:\n",
    "    \n",
    "    cnt = cnt + 1\n",
    "    \n",
    "    if(cnt > 20):\n",
    "        break\n",
    "        \n",
    "    print(\"hello\",cnt)"
   ]
  },
  {
   "cell_type": "code",
   "execution_count": 3,
   "id": "fe6421bd",
   "metadata": {},
   "outputs": [
    {
     "name": "stdout",
     "output_type": "stream",
     "text": [
      "1\n",
      "3\n",
      "5\n",
      "7\n",
      "9\n"
     ]
    }
   ],
   "source": [
    "x = 0\n",
    "while True:\n",
    "    x += 1\n",
    "    if( x > 10):\n",
    "        break\n",
    "    elif( x % 2 == 0):\n",
    "        continue\n",
    "    print(x)"
   ]
  },
  {
   "cell_type": "code",
   "execution_count": 7,
   "id": "c6e913c7",
   "metadata": {
    "scrolled": true
   },
   "outputs": [
    {
     "name": "stdout",
     "output_type": "stream",
     "text": [
      "숫자를 한개 입력하시오:1\n",
      "input: 1\n",
      "숫자를 한개 입력하시오:1\n",
      "input: 1\n",
      "숫자를 한개 입력하시오:2\n",
      "input: 2\n",
      "숫자를 한개 입력하시오:3\n",
      "wrong input\n"
     ]
    }
   ],
   "source": [
    "while True:\n",
    "    select = input(\"숫자를 한개 입력하시오\")\n",
    "    if select == \"1\":\n",
    "        print(\"input:\",select)\n",
    "    elif select == \"2\":\n",
    "        print(\"input:\",select)\n",
    "    else:\n",
    "        print(\"wrong input\")\n",
    "        break"
   ]
  },
  {
   "cell_type": "code",
   "execution_count": 14,
   "id": "ee0f40ef",
   "metadata": {},
   "outputs": [
    {
     "name": "stdout",
     "output_type": "stream",
     "text": [
      "현재시간:2:00\n",
      "정각입니다.\n"
     ]
    }
   ],
   "source": [
    "time = input(\"현재시간:\")\n",
    "\n",
    "if(time[-2:]==\"00\"):\n",
    "    print(\"정각입니다.\")\n",
    "else:\n",
    "    print(\"정각이 아닙니다.\")"
   ]
  },
  {
   "cell_type": "code",
   "execution_count": 8,
   "id": "1e1bfd51",
   "metadata": {},
   "outputs": [
    {
     "name": "stdout",
     "output_type": "stream",
     "text": [
      "종목명: sd\n",
      "투자 경고 종목입니다.\n"
     ]
    }
   ],
   "source": [
    "warn_investment_list = [\"Microsoft\",\"Google\",\"Naver\",\"Kakao\",\"SAMSUNG\",\"LG\"]\n",
    "select = input(\"종목명: \")\n",
    "if select in warn_investment_list:\n",
    "    print(\"투자 경고 종목이 아닙니다.\")\n",
    "else:\n",
    "    print(\"투자 경고 종목입니다.\")"
   ]
  },
  {
   "cell_type": "code",
   "execution_count": 6,
   "id": "8a7ee2ae",
   "metadata": {},
   "outputs": [
    {
     "name": "stdout",
     "output_type": "stream",
     "text": [
      "제가 좋아하는 계절은:겨울\n",
      "오답입니다\n"
     ]
    }
   ],
   "source": [
    "fruit = {\"봄\":\"딸기\", \"여름\":\"토마토\", \"가을\":\"사과\"}\n",
    "user = input(\"제가 좋아하는 계절은:\")\n",
    "\n",
    "if user in fruit.keys():\n",
    "    print(\"정답입니다\")\n",
    "else:\n",
    "    print(\"오답입니다\")"
   ]
  },
  {
   "cell_type": "code",
   "execution_count": 22,
   "id": "2244e5f1",
   "metadata": {},
   "outputs": [
    {
     "name": "stdout",
     "output_type": "stream",
     "text": [
      "휴대전화 번호 입력: 010243342\n",
      "알수없음\n"
     ]
    }
   ],
   "source": [
    "phone = {\"011\":\"SKT\", \"016\": \"KT\", \"019\":\"LGU\", \"010\":\"알수없음\"}\n",
    "number = input(\"휴대전화 번호 입력: \")\n",
    "if number[:3] in phone.keys():\n",
    "    print(phone[number[:3]])"
   ]
  },
  {
   "cell_type": "code",
   "execution_count": null,
   "id": "b58710e8",
   "metadata": {},
   "outputs": [],
   "source": []
  }
 ],
 "metadata": {
  "kernelspec": {
   "display_name": "Python 3 (ipykernel)",
   "language": "python",
   "name": "python3"
  },
  "language_info": {
   "codemirror_mode": {
    "name": "ipython",
    "version": 3
   },
   "file_extension": ".py",
   "mimetype": "text/x-python",
   "name": "python",
   "nbconvert_exporter": "python",
   "pygments_lexer": "ipython3",
   "version": "3.11.2"
  }
 },
 "nbformat": 4,
 "nbformat_minor": 5
}
