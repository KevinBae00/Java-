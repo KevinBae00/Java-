{
 "cells": [
  {
   "cell_type": "code",
   "execution_count": null,
   "id": "1b98eb39",
   "metadata": {},
   "outputs": [],
   "source": [
    "#함수\n",
    "\n",
    "x = 1\n",
    "result = 2*x + 1\n",
    "x = 2\n",
    "result = 2*x + 1\n",
    "x = 3\n",
    "result = 2*x + 1\n",
    "\n",
    "def 함수명(매게변수):\n",
    "    실행문1\n",
    "    실행문2"
   ]
  },
  {
   "cell_type": "code",
   "execution_count": 4,
   "id": "5c77053a",
   "metadata": {},
   "outputs": [
    {
     "name": "stdout",
     "output_type": "stream",
     "text": [
      "5\n",
      "30\n",
      "75\n",
      "200\n"
     ]
    }
   ],
   "source": [
    "# def odd(x)\n",
    "#     2*x + 1\n",
    "\n",
    "#함수 형식1\n",
    "def add():\n",
    "    print(2 + 3)\n",
    "    \n",
    "add() #함수의 호출\n",
    "\n",
    "#함수 형식2\n",
    "def add2(x,y):\n",
    "    print(x + y)\n",
    "    \n",
    "add2(10,20) #함수의 호출\n",
    "\n",
    "#함수 형식3\n",
    "def add3(x,y):\n",
    "    return x + y\n",
    "    \n",
    "#print(add3(100,200)) #함수의 호출\n",
    "result = add3(50,25)\n",
    "print(result)\n",
    "\n",
    "def add5(a,b):\n",
    "    return a * b\n",
    "\n",
    "a = 10\n",
    "b = 20\n",
    "\n",
    "result = add5(a,b)\n",
    "print(result)"
   ]
  },
  {
   "cell_type": "code",
   "execution_count": 8,
   "id": "341bb080",
   "metadata": {},
   "outputs": [
    {
     "name": "stdout",
     "output_type": "stream",
     "text": [
      "-1\n",
      "2\n",
      "1\n"
     ]
    }
   ],
   "source": [
    "# 빼기함수\n",
    "def sub(a,b):\n",
    "    return a - b\n",
    "\n",
    "result = sub(2,3)\n",
    "print(result)\n",
    "\n",
    "#나누기 함수(몫, 나머지)\n",
    "def div1(a,b):\n",
    "    return a // b\n",
    "\n",
    "result = div1(5,2)\n",
    "print(result)\n",
    "\n",
    "def div2(a,b):\n",
    "    return a % b\n",
    "\n",
    "result = div2(5,2)\n",
    "print(result)"
   ]
  },
  {
   "cell_type": "markdown",
   "id": "ba8225c6",
   "metadata": {},
   "source": [
    "# 매개변수 지정하여 호출하기"
   ]
  },
  {
   "cell_type": "markdown",
   "id": "a16185da",
   "metadata": {},
   "source": [
    "def add5(a,b):\n",
    "    return a + b\n",
    "\n",
    "add5(a=5, b=10)\n",
    "add5(b=10, a=20)"
   ]
  },
  {
   "cell_type": "markdown",
   "id": "abc90cf1",
   "metadata": {},
   "source": [
    "# 매개변수를 여러개 사용하기"
   ]
  },
  {
   "cell_type": "code",
   "execution_count": 21,
   "id": "dc46806a",
   "metadata": {},
   "outputs": [
    {
     "name": "stdout",
     "output_type": "stream",
     "text": [
      "55\n"
     ]
    }
   ],
   "source": [
    "# def 함수명(*매개변수):\n",
    "#     실행문\n",
    "\n",
    "def add_many(*args):\n",
    "    \n",
    "    result = 0\n",
    "    \n",
    "    for i in args:  #range(),리스트,튜플,딕셔너리\n",
    "        result += i\n",
    "    \n",
    "    return result\n",
    "\n",
    "sum = add_many(1,2,3,4,5,6,7,8,9,10)\n",
    "print(sum)"
   ]
  },
  {
   "cell_type": "markdown",
   "id": "ed6c3aa9",
   "metadata": {},
   "source": [
    "# return 구문의 다른용도"
   ]
  },
  {
   "cell_type": "code",
   "execution_count": 24,
   "id": "1d1e6653",
   "metadata": {},
   "outputs": [
    {
     "name": "stdout",
     "output_type": "stream",
     "text": [
      "나의 별명은 대장 입니다\n",
      "나의 별명은 물고기 입니다\n"
     ]
    }
   ],
   "source": [
    "def say_nick(nick):\n",
    "    \n",
    "    if nick == \"바보\":\n",
    "        return          #함수의 강제종료\n",
    "    \n",
    "    print(\"나의 별명은 %s 입니다\" % nick)\n",
    "    \n",
    "say_nick(\"대장\")\n",
    "say_nick(\"물고기\")\n",
    "say_nick(\"바보\")"
   ]
  },
  {
   "cell_type": "code",
   "execution_count": 25,
   "id": "83959ff0",
   "metadata": {},
   "outputs": [
    {
     "name": "stdout",
     "output_type": "stream",
     "text": [
      "46.0\n"
     ]
    }
   ],
   "source": [
    "def f_list(score):\n",
    "    total = 0\n",
    "    for i in score:\n",
    "        total += i\n",
    "    avg = total / len(score)\n",
    "    return avg\n",
    "    \n",
    "avg = f_list([10,20,30,70,100])\n",
    "print(avg)"
   ]
  },
  {
   "cell_type": "markdown",
   "id": "e5811e69",
   "metadata": {},
   "source": [
    "# 람다함수"
   ]
  },
  {
   "cell_type": "code",
   "execution_count": 27,
   "id": "27f3cdfd",
   "metadata": {},
   "outputs": [
    {
     "name": "stdout",
     "output_type": "stream",
     "text": [
      "30\n",
      "300\n"
     ]
    }
   ],
   "source": [
    "def add(a,b):\n",
    "    return a + b\n",
    "\n",
    "result = add(10,20)\n",
    "print(result)\n",
    "\n",
    "# lambda 매개변수..... : 실행문\n",
    "add2 = lambda a,b : a + b  #함수의 이름과 return 문이 생략 되어짐\n",
    "sum = add2(100,200)\n",
    "print(sum)"
   ]
  },
  {
   "cell_type": "code",
   "execution_count": 29,
   "id": "8356993c",
   "metadata": {},
   "outputs": [
    {
     "name": "stdout",
     "output_type": "stream",
     "text": [
      "13\n",
      "140\n",
      "2\n",
      "6\n"
     ]
    }
   ],
   "source": [
    "#lamda 형식으로 빼기,곱하기,나누기 함수(몫,나머지)\n",
    "sub = lambda a,b : a - b\n",
    "mul = lambda a,b : a * b\n",
    "div1 = lambda a,b : a // b\n",
    "div2 = lambda a,b : a % b\n",
    "\n",
    "print(sub(20,7))\n",
    "print(mul(20,7))\n",
    "print(div1(20,7))\n",
    "print(div2(20,7))"
   ]
  },
  {
   "cell_type": "code",
   "execution_count": 31,
   "id": "4962b23f",
   "metadata": {},
   "outputs": [
    {
     "name": "stdout",
     "output_type": "stream",
     "text": [
      "숫자를 입력하세요:12\n",
      "12\n",
      "<class 'str'>\n"
     ]
    }
   ],
   "source": [
    "x = input(\"숫자를 입력하세요:\")\n",
    "print(x)\n",
    "print(type(x))"
   ]
  },
  {
   "cell_type": "code",
   "execution_count": 33,
   "id": "1cd86771",
   "metadata": {},
   "outputs": [
    {
     "name": "stdout",
     "output_type": "stream",
     "text": [
      "숫자입력1\n",
      "숫자입력2\n",
      "3\n",
      "<class 'int'>\n"
     ]
    }
   ],
   "source": [
    "a = int(input(\"숫자입력\")) # int(문자열)\n",
    "b = int(input(\"숫자입력\"))\n",
    "print(a + b)\n",
    "print(type(a))"
   ]
  },
  {
   "cell_type": "code",
   "execution_count": 35,
   "id": "d71d673e",
   "metadata": {},
   "outputs": [
    {
     "name": "stdout",
     "output_type": "stream",
     "text": [
      "Lifeistooshort\n",
      "Life is too short\n"
     ]
    }
   ],
   "source": [
    "print(\"Life\" + \"is\" + \"too\" + \"short\")\n",
    "print(\"Life\", \"is\", \"too\", \"short\")"
   ]
  },
  {
   "cell_type": "code",
   "execution_count": 34,
   "id": "60d61292",
   "metadata": {},
   "outputs": [
    {
     "name": "stdout",
     "output_type": "stream",
     "text": [
      "1,2,3,4,"
     ]
    }
   ],
   "source": [
    "print(1, end=',')\n",
    "print(2, end=',')\n",
    "print(3, end=',')\n",
    "print(4, end=',')"
   ]
  },
  {
   "cell_type": "markdown",
   "id": "60428528",
   "metadata": {},
   "source": [
    "# 파일 읽고 쓰기"
   ]
  },
  {
   "cell_type": "code",
   "execution_count": null,
   "id": "524a3591",
   "metadata": {},
   "outputs": [],
   "source": [
    "#파일 생성하기\n",
    "f = open(\"새파일.txt\", 'w') #D:\\bbj\\python\n",
    "\n",
    "#경로\n",
    "# C:/doit/새파일.txt     슬러쉬\n",
    "# C:\\\\doit\\\\새파일.txt  역슬러쉬\n",
    "# r\"C:doit\\새파일.txt\"  \\n"
   ]
  },
  {
   "cell_type": "code",
   "execution_count": 39,
   "id": "d9be0a81",
   "metadata": {},
   "outputs": [],
   "source": [
    "f = open(\"D:/bbj/python/새파일.txt\",'w')\n",
    "for i in range(1,11):\n",
    "    data = \"%d번째 줄입니다.\\n\" % i\n",
    "    f.write(data)\n",
    "f.close()"
   ]
  },
  {
   "cell_type": "code",
   "execution_count": 40,
   "id": "70b89652",
   "metadata": {},
   "outputs": [
    {
     "name": "stdout",
     "output_type": "stream",
     "text": [
      "1번째 줄입니다.\n",
      "\n"
     ]
    }
   ],
   "source": [
    "#파일을 읽는 여러 가지 방법\n",
    "# readline 함수 이용하기\n",
    "f = open(\"D:/bbj/python/새파일.txt\",'r')\n",
    "line = f.readline()\n",
    "print(line)\n",
    "f.close()"
   ]
  },
  {
   "cell_type": "code",
   "execution_count": 5,
   "id": "a6167280",
   "metadata": {},
   "outputs": [
    {
     "name": "stdout",
     "output_type": "stream",
     "text": [
      "1번째 줄입니다.\n",
      "\n",
      "2번째 줄입니다.\n",
      "\n",
      "3번째 줄입니다.\n",
      "\n",
      "4번째 줄입니다.\n",
      "\n",
      "5번째 줄입니다.\n",
      "\n",
      "6번째 줄입니다.\n",
      "\n",
      "7번째 줄입니다.\n",
      "\n",
      "8번째 줄입니다.\n",
      "\n",
      "9번째 줄입니다.\n",
      "\n",
      "10번째 줄입니다.\n",
      "\n"
     ]
    }
   ],
   "source": [
    "f = open(\"D:/bbj/python/새파일.txt\",'r')\n",
    "\n",
    "while True:\n",
    "    line = f.readline()     # 읽어올 값이 없으면 \"\" 을 반환한다.\n",
    "    if not line:\n",
    "        break\n",
    "    print(line)\n",
    "\n",
    "f.close()"
   ]
  },
  {
   "cell_type": "code",
   "execution_count": 8,
   "id": "7b018b32",
   "metadata": {},
   "outputs": [
    {
     "name": "stdout",
     "output_type": "stream",
     "text": [
      "1번째 줄입니다.\n",
      "2번째 줄입니다.\n",
      "3번째 줄입니다.\n",
      "4번째 줄입니다.\n",
      "5번째 줄입니다.\n",
      "6번째 줄입니다.\n",
      "7번째 줄입니다.\n",
      "8번째 줄입니다.\n",
      "9번째 줄입니다.\n",
      "10번째 줄입니다.\n"
     ]
    }
   ],
   "source": [
    "#readlines 함수 사용하기\n",
    "f = open(\"D:/bbj/python/새파일.txt\",'r')\n",
    "lines = f.readlines() #모든 행을 다 읽어서 값을 리스트 형태로 저장한다.\n",
    "for line in lines:\n",
    "    line = line.strip()  #줄 끝의 줄 바꿈 문자를 제거한다\n",
    "    print(line)\n",
    "\n",
    "f.close()"
   ]
  },
  {
   "cell_type": "code",
   "execution_count": 11,
   "id": "d075872e",
   "metadata": {},
   "outputs": [
    {
     "name": "stdout",
     "output_type": "stream",
     "text": [
      "1번째 줄입니다.\n",
      "2번째 줄입니다.\n",
      "3번째 줄입니다.\n",
      "4번째 줄입니다.\n",
      "5번째 줄입니다.\n",
      "6번째 줄입니다.\n",
      "7번째 줄입니다.\n",
      "8번째 줄입니다.\n",
      "9번째 줄입니다.\n",
      "10번째 줄입니다.\n",
      "\n"
     ]
    }
   ],
   "source": [
    "#read 함수 사용하기\n",
    "f = open(\"D:/bbj/python/새파일.txt\",'r')\n",
    "data = f.read()\n",
    "print(data)\n",
    "f.close()"
   ]
  },
  {
   "cell_type": "code",
   "execution_count": 12,
   "id": "0dd51fd6",
   "metadata": {},
   "outputs": [
    {
     "name": "stdout",
     "output_type": "stream",
     "text": [
      "1번째 줄입니다.\n",
      "\n",
      "2번째 줄입니다.\n",
      "\n",
      "3번째 줄입니다.\n",
      "\n",
      "4번째 줄입니다.\n",
      "\n",
      "5번째 줄입니다.\n",
      "\n",
      "6번째 줄입니다.\n",
      "\n",
      "7번째 줄입니다.\n",
      "\n",
      "8번째 줄입니다.\n",
      "\n",
      "9번째 줄입니다.\n",
      "\n",
      "10번째 줄입니다.\n",
      "\n"
     ]
    }
   ],
   "source": [
    "f = open(\"D:/bbj/python/새파일.txt\",'r')\n",
    "for line in f:\n",
    "    print(line)\n",
    "f.close()"
   ]
  },
  {
   "cell_type": "markdown",
   "id": "6be30a2f",
   "metadata": {},
   "source": [
    "# 파일에 새로운 내용 추가하기"
   ]
  },
  {
   "cell_type": "code",
   "execution_count": 3,
   "id": "2e18049b",
   "metadata": {},
   "outputs": [],
   "source": [
    "f = open(\"D:/bbj/python/새파일.txt\",'a')\n",
    "for i in range(11,20):\n",
    "    data = \"%d번째 줄입니다.\\n\" % i\n",
    "    f.write(data)\n",
    "f.close()"
   ]
  },
  {
   "cell_type": "markdown",
   "id": "0e5211a2",
   "metadata": {},
   "source": [
    "# with문과 함께 사용하기"
   ]
  },
  {
   "cell_type": "code",
   "execution_count": 4,
   "id": "fee7bf2f",
   "metadata": {},
   "outputs": [],
   "source": [
    "with open('foo.txt','w') as f:\n",
    "    f.write(\"Life is too short\")"
   ]
  },
  {
   "cell_type": "code",
   "execution_count": 5,
   "id": "d4b01786",
   "metadata": {},
   "outputs": [
    {
     "name": "stdout",
     "output_type": "stream",
     "text": [
      "문자열을 써주시오hi\n",
      "hi:D\n"
     ]
    }
   ],
   "source": [
    "def print_with_smile(x):\n",
    "    print(x + \":D\")\n",
    "\n",
    "x = input(\"문자열을 써주시오: \")\n",
    "print_with_smile(x)"
   ]
  },
  {
   "cell_type": "code",
   "execution_count": 7,
   "id": "2dcaea18",
   "metadata": {},
   "outputs": [
    {
     "name": "stdout",
     "output_type": "stream",
     "text": [
      "숫자를 써주시오4\n",
      "숫자를 써주시오9\n",
      "숫자를 써주시오1\n",
      "9\n"
     ]
    }
   ],
   "source": [
    "def print_max(a,b,c):\n",
    "    print(max(a,b,c))\n",
    "    \n",
    "a = input(\"숫자를 써주시오: \")\n",
    "b = input(\"숫자를 써주시오: \")\n",
    "c = input(\"숫자를 써주시오: \")\n",
    "print_max(a,b,c)"
   ]
  },
  {
   "cell_type": "code",
   "execution_count": 30,
   "id": "5e25764d",
   "metadata": {},
   "outputs": [
    {
     "name": "stdout",
     "output_type": "stream",
     "text": [
      "Please write some words: python\n",
      "nohtyp"
     ]
    }
   ],
   "source": [
    "def print_reverse(s):\n",
    "    l = len(s)\n",
    "    for i in range(l):\n",
    "        print(s[len(s)-i-1], end =\"\")\n",
    "        \n",
    "s = input(\"Please write some words: \")\n",
    "print_reverse(s)"
   ]
  },
  {
   "cell_type": "code",
   "execution_count": 37,
   "id": "05069211",
   "metadata": {},
   "outputs": [
    {
     "name": "stdout",
     "output_type": "stream",
     "text": [
      "이름\n",
      "나이\n",
      "성별\n"
     ]
    }
   ],
   "source": [
    "def print_keys(s):\n",
    "    k = s.keys()\n",
    "    result = '\\n'.join(i for i in k)\n",
    "    print(result)\n",
    "    \n",
    "print_keys({\"이름\":\"김말똥\",\"나이\":30,\"성별\":0})"
   ]
  },
  {
   "cell_type": "code",
   "execution_count": 35,
   "id": "d10559b3",
   "metadata": {},
   "outputs": [
    {
     "name": "stdout",
     "output_type": "stream",
     "text": [
      "www.naver.com\n"
     ]
    }
   ],
   "source": [
    "def make_url(s):\n",
    "    print(\"www.\"+ s +\".com\")\n",
    "\n",
    "make_url(\"naver\")"
   ]
  },
  {
   "cell_type": "code",
   "execution_count": null,
   "id": "1ce35170",
   "metadata": {},
   "outputs": [],
   "source": []
  }
 ],
 "metadata": {
  "kernelspec": {
   "display_name": "Python 3 (ipykernel)",
   "language": "python",
   "name": "python3"
  },
  "language_info": {
   "codemirror_mode": {
    "name": "ipython",
    "version": 3
   },
   "file_extension": ".py",
   "mimetype": "text/x-python",
   "name": "python",
   "nbconvert_exporter": "python",
   "pygments_lexer": "ipython3",
   "version": "3.11.2"
  }
 },
 "nbformat": 4,
 "nbformat_minor": 5
}
