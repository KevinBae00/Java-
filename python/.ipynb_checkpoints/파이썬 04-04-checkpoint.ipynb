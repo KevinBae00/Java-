{
 "cells": [
  {
   "cell_type": "code",
   "execution_count": 2,
   "id": "6ff94713",
   "metadata": {},
   "outputs": [
    {
     "name": "stdout",
     "output_type": "stream",
     "text": [
      "Hello\n"
     ]
    }
   ],
   "source": [
    "print(\"Hello\")"
   ]
  },
  {
   "cell_type": "code",
   "execution_count": 3,
   "id": "b0e25539",
   "metadata": {},
   "outputs": [
    {
     "name": "stdout",
     "output_type": "stream",
     "text": [
      "10\n"
     ]
    }
   ],
   "source": [
    "print(10)"
   ]
  },
  {
   "cell_type": "code",
   "execution_count": 14,
   "id": "69b29f02",
   "metadata": {},
   "outputs": [
    {
     "name": "stdout",
     "output_type": "stream",
     "text": [
      "11\n",
      "3\n",
      "28\n",
      "0.75\n",
      "1\n",
      "3\n",
      "2401\n"
     ]
    }
   ],
   "source": [
    "a = 7\n",
    "b = 4\n",
    "print(a + b)\n",
    "print(a - b)\n",
    "print(a * b)\n",
    "# 나눗셈 연산\n",
    "print(3 / 4)  #실수 형식 구하기\n",
    "print(a // b) #몫 구하기\n",
    "print(a % b)  #나머지 구하기\n",
    "# 제곱근 구하기\n",
    "print(a ** b) # 7 * 7 * 7 * 7"
   ]
  },
  {
   "cell_type": "code",
   "execution_count": 15,
   "id": "e1f19e40",
   "metadata": {
    "scrolled": true
   },
   "outputs": [
    {
     "name": "stdout",
     "output_type": "stream",
     "text": [
      "Python's favorite food is perl\n"
     ]
    }
   ],
   "source": [
    "#문자열\n",
    "str = \"Python's favorite food is perl\"\n",
    "print(str)"
   ]
  },
  {
   "cell_type": "code",
   "execution_count": 16,
   "id": "b38b7fca",
   "metadata": {
    "scrolled": true
   },
   "outputs": [
    {
     "name": "stdout",
     "output_type": "stream",
     "text": [
      "Python\"s favorite food is perl\n"
     ]
    }
   ],
   "source": [
    "str = 'Python\"s favorite food is perl'\n",
    "print(str)"
   ]
  },
  {
   "cell_type": "code",
   "execution_count": 27,
   "id": "f64da035",
   "metadata": {
    "scrolled": true
   },
   "outputs": [
    {
     "name": "stdout",
     "output_type": "stream",
     "text": [
      "Life is too short\n",
      "You need python\n",
      "\n",
      "Life is too short\n",
      "You need python\n",
      "\n",
      "Python's favorite food is perl\n"
     ]
    }
   ],
   "source": [
    "str = \"\"\"Life is too short\n",
    "You need python\"\"\"\n",
    "print(str)\n",
    "\n",
    "str2 = '''\n",
    "Life is too short\n",
    "You need python'''\n",
    "print(str2)\n",
    "\n",
    "str3 = 'Python\\'s favorite food is perl'\n",
    "print(\"\\n\" + str3)"
   ]
  },
  {
   "cell_type": "code",
   "execution_count": 29,
   "id": "329606b3",
   "metadata": {
    "scrolled": true
   },
   "outputs": [
    {
     "name": "stdout",
     "output_type": "stream",
     "text": [
      "Hello \n",
      "world\n"
     ]
    }
   ],
   "source": [
    "#특수문자\n",
    "print(\"Hello \\nworld\")"
   ]
  },
  {
   "cell_type": "code",
   "execution_count": 36,
   "id": "950046a0",
   "metadata": {},
   "outputs": [
    {
     "name": "stdout",
     "output_type": "stream",
     "text": [
      "python is fun!\n",
      "pythonpython\n"
     ]
    }
   ],
   "source": [
    "#문자열 연산하기\n",
    "head = \"python\"\n",
    "tail = \" is fun!\"\n",
    "print(head + tail)\n",
    "\n",
    "# a = \"python\"\n",
    "# b = 3.11\n",
    "# print(a + b) #error ctrl + /\n",
    "\n",
    "a = \"python\"\n",
    "print(a * 2)"
   ]
  },
  {
   "cell_type": "code",
   "execution_count": 1,
   "id": "d3d2d7d7",
   "metadata": {},
   "outputs": [
    {
     "name": "stdout",
     "output_type": "stream",
     "text": [
      "==============================\n"
     ]
    }
   ],
   "source": [
    "print(\"=\" * 30)"
   ]
  },
  {
   "cell_type": "code",
   "execution_count": 3,
   "id": "321a0d51",
   "metadata": {},
   "outputs": [
    {
     "name": "stdout",
     "output_type": "stream",
     "text": [
      "17\n",
      "e\n"
     ]
    }
   ],
   "source": [
    "#문자열 길이 구하기\n",
    "a = \"Life is too short\"\n",
    "print(len(a))"
   ]
  },
  {
   "cell_type": "code",
   "execution_count": 10,
   "id": "fd607d95",
   "metadata": {
    "scrolled": true
   },
   "outputs": [
    {
     "name": "stdout",
     "output_type": "stream",
     "text": [
      "f\n",
      "f\n",
      "t\n",
      "t\n",
      "L\n",
      "L\n",
      "L\n"
     ]
    }
   ],
   "source": [
    "#문자열 인덱싱\n",
    "a = \"Life is too short\"\n",
    "#슬라이싱\n",
    "print(a[2])\n",
    "print(a[-15])\n",
    "print(a[16])\n",
    "print(a[-1])\n",
    "\n",
    "# 'L'\n",
    "print(a[0])   # print(a[0]) == print(a[-0]) == print(a[:1])\n",
    "print(a[-0])\n",
    "print(a[-17])"
   ]
  },
  {
   "cell_type": "code",
   "execution_count": 26,
   "id": "5666bb2a",
   "metadata": {
    "scrolled": false
   },
   "outputs": [
    {
     "name": "stdout",
     "output_type": "stream",
     "text": [
      "34\n",
      "LYP\n",
      "Life\n",
      "short\n",
      "Life is too short\n",
      "You need Python\n",
      "You need Pytho\n"
     ]
    }
   ],
   "source": [
    "#슬라이싱\n",
    "a = \"Life is too short. You need Python\"\n",
    "print(len(a))\n",
    "print(a[0] + a[-15] +a[-6])\n",
    "print(a[0:4])\n",
    "print(a[12:17])\n",
    "print(a[:17]) # print(a[:17]) == print(a[0:17])\n",
    "print(a[19:]) # print(a[19:]) == print(a[19:34])\n",
    "print(a[19:-1])"
   ]
  },
  {
   "cell_type": "code",
   "execution_count": 27,
   "id": "3fd8e877",
   "metadata": {},
   "outputs": [
    {
     "name": "stdout",
     "output_type": "stream",
     "text": [
      "Python\n"
     ]
    }
   ],
   "source": [
    "#슬라이싱\n",
    "a=\"Pithon\"\n",
    "print(a[:1] + 'y' + a[2:])"
   ]
  },
  {
   "cell_type": "code",
   "execution_count": 18,
   "id": "02abd202",
   "metadata": {},
   "outputs": [
    {
     "name": "stdout",
     "output_type": "stream",
     "text": [
      "I eat 3 apples.\n",
      "I eat three apples.\n",
      "I eat 8 apples.\n",
      "I eat 10 apples. so I was sick for three day\n",
      "rate is 3.234000\n",
      "rate is 3.234\n"
     ]
    }
   ],
   "source": [
    "#문자열 포매팅\n",
    "print(\"I eat %d apples.\" % 3)\n",
    "print(\"I eat %s apples.\" % \"three\")\n",
    "\n",
    "number = 8\n",
    "print(\"I eat %d apples.\" % number)\n",
    "\n",
    "cnt = 10\n",
    "day = \"three\"\n",
    "print(\"I eat %d apples. so I was sick for %s day\" % (cnt,day) )\n",
    "\n",
    "print(\"rate is %f\" % 3.234)\n",
    "print(\"rate is %s\" % 3.234)"
   ]
  },
  {
   "cell_type": "code",
   "execution_count": 81,
   "id": "b22855fa",
   "metadata": {},
   "outputs": [
    {
     "name": "stdout",
     "output_type": "stream",
     "text": [
      "        hi\n",
      "hello     world\n",
      "3.4324\n",
      "    3.4324\n"
     ]
    }
   ],
   "source": [
    "#문자열 포매팅 (포맷 코드와 숫자 함께 사용하기)\n",
    "print(\"%10s\" % \"hi\") #오른쪽 정렬\n",
    "print(\"%-10sworld\" % \"hello\") #왼쪽 정렬\n",
    "\n",
    "print(\"%.4f\" % 3.43243242)\n",
    "print(\"%10.4f\" % 3.43243242)"
   ]
  },
  {
   "cell_type": "code",
   "execution_count": 50,
   "id": "3a39e651",
   "metadata": {
    "scrolled": true
   },
   "outputs": [
    {
     "name": "stdout",
     "output_type": "stream",
     "text": [
      "I eat five apples\n",
      "I eat 10 apples\n",
      "I eat 20 apples. so I was sick for 10 days.\n",
      "I eat 10 apples. so I was sick for 20 days.\n"
     ]
    }
   ],
   "source": [
    "#format 함수를 사용한 포매팅\n",
    "print(\"I eat {0} apples\".format(\"five\"))\n",
    "number = 10\n",
    "print(\"I eat {0} apples\".format(number))\n",
    "\n",
    "day = 20\n",
    "print(\"I eat {1} apples. so I was sick for {0} days.\".format(number, day))\n",
    "\n",
    "print(\"I eat {a} apples. so I was sick for {b} days.\".format(a=10, b=20))"
   ]
  },
  {
   "cell_type": "code",
   "execution_count": 56,
   "id": "891d3809",
   "metadata": {},
   "outputs": [
    {
     "name": "stdout",
     "output_type": "stream",
     "text": [
      "hi        \n",
      "        hi\n",
      "    hi    \n"
     ]
    }
   ],
   "source": [
    "#format 함수를 사용한 포매팅\n",
    "print(\"{0:<10}\".format(\"hi\")) # 왼쪽 정렬\n",
    "print(\"{0:>10}\".format(\"hi\")) # 오른쪽 정렬\n",
    "print(\"{0:^10}\".format(\"hi\")) # 가운데 정렬"
   ]
  },
  {
   "cell_type": "code",
   "execution_count": 61,
   "id": "a0eb13c7",
   "metadata": {},
   "outputs": [
    {
     "name": "stdout",
     "output_type": "stream",
     "text": [
      "3.4213\n",
      "    3.4213\n"
     ]
    }
   ],
   "source": [
    "y = 3.42134234\n",
    "print(\"{0:0.4f}\".format(y))\n",
    "print(\"{0:10.4f}\".format(y))"
   ]
  },
  {
   "cell_type": "code",
   "execution_count": 95,
   "id": "e282babc",
   "metadata": {
    "scrolled": true
   },
   "outputs": [
    {
     "name": "stdout",
     "output_type": "stream",
     "text": [
      "hong11\n",
      "3.4213\n",
      "    3.4213\n"
     ]
    }
   ],
   "source": [
    "#f 문자열 포매팅\n",
    "name = 'hong'\n",
    "age = 10\n",
    "print(f'{name}{10 + 1}') #표현식: 연산이 가능하다\n",
    "\n",
    "y = 3.42134234\n",
    "print(f'{y:0.4f}')\n",
    "print(f'{y:10.4f}')"
   ]
  },
  {
   "cell_type": "code",
   "execution_count": 103,
   "id": "cb92200c",
   "metadata": {},
   "outputs": [
    {
     "name": "stdout",
     "output_type": "stream",
     "text": [
      "5\n",
      "2\n",
      "4\n",
      "-1\n",
      "4\n",
      "a,b,c,d\n",
      "HI\n",
      "hi \n",
      " hi\n",
      "hi\n"
     ]
    }
   ],
   "source": [
    "#문자열 관련 함수들\n",
    "str = \"happy\"\n",
    "print(len(str))\n",
    "print(str.count('p')) #특정 문자의 갯수\n",
    "print(str.find('y'))  #특정 문자의 위치(index)\n",
    "print(str.find('z'))  # -1 반환\n",
    "print(str.index('y')) #특정 문자의 위치(index)\n",
    "#print(str.index('z')) # error 발생\n",
    "print(','.join('abcd'))\n",
    "a = 'hi'\n",
    "print(a.upper())  # lower()\n",
    "a= \" hi \"\n",
    "print(a.lstrip())\n",
    "print(a.rstrip())\n",
    "print(a.strip())"
   ]
  },
  {
   "cell_type": "code",
   "execution_count": 113,
   "id": "c5e6425f",
   "metadata": {},
   "outputs": [
    {
     "name": "stdout",
     "output_type": "stream",
     "text": [
      "Your leg is too short\n"
     ]
    }
   ],
   "source": [
    "#문자열 바꾸기\n",
    "a = \"Life is too short\"\n",
    "print(a.replace(\"Life\",\"Your leg\"))"
   ]
  },
  {
   "cell_type": "code",
   "execution_count": 99,
   "id": "7781aa34",
   "metadata": {},
   "outputs": [
    {
     "name": "stdout",
     "output_type": "stream",
     "text": [
      "['Life', 'is', 'too', 'short']\n",
      "['a', 'b', 'c', 'd']\n"
     ]
    }
   ],
   "source": [
    "#문자열 나누기\n",
    "a = \"Life is too short\"\n",
    "print(a.split())\n",
    "\n",
    "b = 'a:b:c:d'\n",
    "print(b.split(':'))"
   ]
  },
  {
   "cell_type": "code",
   "execution_count": 105,
   "id": "1e9bda0d",
   "metadata": {},
   "outputs": [
    {
     "name": "stdout",
     "output_type": "stream",
     "text": [
      "p,t\n"
     ]
    }
   ],
   "source": [
    "letters = 'python'\n",
    "print(letters[0] + '  + letters[2])"
   ]
  },
  {
   "cell_type": "code",
   "execution_count": 106,
   "id": "37ed1b2b",
   "metadata": {},
   "outputs": [
    {
     "name": "stdout",
     "output_type": "stream",
     "text": [
      "2210\n"
     ]
    }
   ],
   "source": [
    "license_plate = \"24가 2210\"\n",
    "print(license_plate[-4:])"
   ]
  },
  {
   "cell_type": "code",
   "execution_count": 118,
   "id": "e54df7a2",
   "metadata": {},
   "outputs": [
    {
     "name": "stdout",
     "output_type": "stream",
     "text": [
      "홀홀홀\n"
     ]
    }
   ],
   "source": [
    "string = \"홀짝홀짝홀짝\"\n",
    "print(\"홀\" * string.count(\"홀\"))"
   ]
  },
  {
   "cell_type": "code",
   "execution_count": 111,
   "id": "c685bbd1",
   "metadata": {},
   "outputs": [
    {
     "name": "stdout",
     "output_type": "stream",
     "text": [
      "010 1111 2222\n"
     ]
    }
   ],
   "source": [
    "phone_number = \"010-1111-2222\"\n",
    "print(phone_number.replace('-',' '))"
   ]
  },
  {
   "cell_type": "code",
   "execution_count": 119,
   "id": "4eca05e6",
   "metadata": {},
   "outputs": [
    {
     "name": "stdout",
     "output_type": "stream",
     "text": [
      "kr\n"
     ]
    }
   ],
   "source": [
    "url = \"http://sharebook.kr\"\n",
    "a=url.split('.')\n",
    "print(a[1])"
   ]
  },
  {
   "cell_type": "code",
   "execution_count": null,
   "id": "c5b27807",
   "metadata": {},
   "outputs": [],
   "source": []
  }
 ],
 "metadata": {
  "kernelspec": {
   "display_name": "Python 3 (ipykernel)",
   "language": "python",
   "name": "python3"
  },
  "language_info": {
   "codemirror_mode": {
    "name": "ipython",
    "version": 3
   },
   "file_extension": ".py",
   "mimetype": "text/x-python",
   "name": "python",
   "nbconvert_exporter": "python",
   "pygments_lexer": "ipython3",
   "version": "3.11.2"
  }
 },
 "nbformat": 4,
 "nbformat_minor": 5
}
